{
 "cells": [
  {
   "cell_type": "code",
   "execution_count": 4,
   "id": "cfb1bc8d",
   "metadata": {},
   "outputs": [
    {
     "name": "stdout",
     "output_type": "stream",
     "text": [
      "Hi! I'm your NLTK chatbot named U.L.T.R.O.N. Type 'quit' to exit.\n",
      "I'm not sure I understand. Can you rephrase?\n",
      "Hi ron, nice to meet you!\n",
      "Goodbye!\n"
     ]
    }
   ],
   "source": [
    "import nltk\n",
    "from nltk.chat.util import Chat, reflections\n",
    "\n",
    "# Define pairs of patterns and responses\n",
    "pairs = [\n",
    "    \n",
    "    [\n",
    "        r\"(hi|hello|hey|hola)[, ]*(i am|i'm|im|my name is) ([a-zA-Z]+)\",\n",
    "        [\"Hi %3, nice to meet you!\", \"Hello %3! How can I help you today?\"]\n",
    "    ],\n",
    "    [\n",
    "        r\"what is your name\\??\",\n",
    "        [\"I'm a chatbot powered by NLTK named U.L.T.R.O.N.\", \"You can call me NLTK Chatbot U.L.T.R.O.N.\"]\n",
    "    ],\n",
    "    [\n",
    "        r\"how are you\\??\",\n",
    "        [\"I'm just a program, but I'm doing well!\", \"I'm here to help you!\"]\n",
    "    ],\n",
    "    [\n",
    "        r\"sorry (.*)\",\n",
    "        [\"No problem!\", \"It's okay, don't worry.\"]\n",
    "    ],\n",
    "    [\n",
    "        r\"quit\",\n",
    "        [\"Bye! Have a great day.\", \"Goodbye!\"]\n",
    "    ],\n",
    "    [\n",
    "        r\"what can you do\\??\",\n",
    "        [\"I can chat with you and answer simple questions.\", \"I'm here to have a conversation with you!\"]\n",
    "    ],\n",
    "    [\n",
    "        r\"who created you\\??\",\n",
    "        [\"I was created by Diptaraj using Python and the NLTK library.\", \"I'm a product of code and creativity by Diptaraj!\"]\n",
    "    ],\n",
    "    [\n",
    "        r\"tell me a joke\",\n",
    "        [\"Why did the computer show up at work late? It had a hard drive!\", \"Why do programmers prefer dark mode? Because light attracts bugs!\"]\n",
    "    ],\n",
    "    [\n",
    "        r\"thank you|thanks\",\n",
    "        [\"You're welcome!\", \"No problem!\", \"Glad to help!\"]\n",
    "    ],\n",
    "    [\n",
    "        r\"(.*) your favorite (.*)\",\n",
    "        [\"I don't have preferences, but I enjoy chatting with you!\", \"As a bot, I don't have favorites.\"]\n",
    "    ],\n",
    "    [\n",
    "        r\"(.*)\",\n",
    "        [\"I'm not sure I understand. Can you rephrase?\", \"Tell me more.\"]\n",
    "    ]\n",
    "]\n",
    "\n",
    "# Create chatbot\n",
    "chatbot = Chat(pairs, reflections)\n",
    "\n",
    "# Start conversation\n",
    "print(\"Hi! I'm your NLTK chatbot named U.L.T.R.O.N. Type 'quit' to exit.\")\n",
    "chatbot.converse()"
   ]
  }
 ],
 "metadata": {
  "kernelspec": {
   "display_name": ".venv",
   "language": "python",
   "name": "python3"
  },
  "language_info": {
   "codemirror_mode": {
    "name": "ipython",
    "version": 3
   },
   "file_extension": ".py",
   "mimetype": "text/x-python",
   "name": "python",
   "nbconvert_exporter": "python",
   "pygments_lexer": "ipython3",
   "version": "3.13.3"
  }
 },
 "nbformat": 4,
 "nbformat_minor": 5
}
